{
 "cells": [
  {
   "cell_type": "markdown",
   "metadata": {},
   "source": [
    "# Date Time Reference Examples"
   ]
  },
  {
   "cell_type": "markdown",
   "metadata": {},
   "source": [
    "#### The following modules are relevant:\n",
    "* datetime\n",
    "* calendar\n",
    "\n",
    "#### The following packages are relevant:\n",
    "* dateutil\n",
    "* fiscalyear"
   ]
  },
  {
   "cell_type": "markdown",
   "metadata": {},
   "source": [
    "#### Usecase\n",
    "The use case we are going to base this walkthrough on is do month to date financial report that is dependant on an external api.  Assuming the api will accept date in string formant you could assume you would need to following capabilities:\n",
    "* accept a string to indicate the year month\n",
    "* determine the start and end date of the specified month\n",
    "* determine to fiscal year of the specified month\n",
    "* determine the start and end date of the fiscal year\n",
    "* determine number of month between end of specified month and start of financial year to calculate averages\n",
    "* fill out the future months in the financial year with zeros"
   ]
  },
  {
   "cell_type": "markdown",
   "metadata": {},
   "source": [
    "### Creating start and end date for specified month"
   ]
  },
  {
   "cell_type": "markdown",
   "metadata": {},
   "source": [
    "#### What does a datetime object look like?"
   ]
  },
  {
   "cell_type": "code",
   "execution_count": 27,
   "metadata": {},
   "outputs": [
    {
     "data": {
      "text/plain": [
       "datetime.datetime(2020, 12, 3, 17, 25, 3, 361780)"
      ]
     },
     "execution_count": 27,
     "metadata": {},
     "output_type": "execute_result"
    }
   ],
   "source": [
    "# explore\n",
    "import datetime\n",
    "\n",
    "datetime.datetime.today()"
   ]
  },
  {
   "cell_type": "markdown",
   "metadata": {},
   "source": [
    "#### test creating start and end date assuming attributes to class YearMonth"
   ]
  },
  {
   "cell_type": "code",
   "execution_count": 100,
   "metadata": {},
   "outputs": [
    {
     "name": "stdout",
     "output_type": "stream",
     "text": [
      "PASSED start and end date specified month (datetime.datetime(2020, 11, 1, 0, 0), datetime.datetime(2020, 11, 30, 0, 0))\n"
     ]
    }
   ],
   "source": [
    "# test\n",
    "test_value1=YearMonth('202011').start_monthdate\n",
    "test_value2=YearMonth('202011').end_monthdate\n",
    "\n",
    "assert test_value1==datetime.datetime(2020,11,1,0,0,0,0), 'FAIL create start date'\n",
    "assert test_value2==datetime.datetime(2020,11,30,0,0,0,0), 'FAIL create end date'\n",
    "\n",
    "print(f'PASSED start and end date specified month {test_value1, test_value2}')"
   ]
  },
  {
   "cell_type": "markdown",
   "metadata": {},
   "source": [
    "#### class to pass testby creating start and end date for specified month"
   ]
  },
  {
   "cell_type": "code",
   "execution_count": 101,
   "metadata": {},
   "outputs": [],
   "source": [
    "# class\n",
    "\n",
    "import calendar\n",
    "from dateutil import parser as p\n",
    "\n",
    "class YearMonth:\n",
    "    def __init__(self,year_month):\n",
    "        \n",
    "        self.year_month=year_month\n",
    "        \n",
    "        year=year_month[0:4]\n",
    "        month=year_month[4:]\n",
    "        # convert year, month to date for first day of month\n",
    "        self.start_monthdate=p.parse(year_month+'01')\n",
    "        # convert year, month to date for last day of month\n",
    "        self.end_monthdate=p.parse(year_month+str(calendar.monthrange(2020,int(month))[1]))\n",
    "\n",
    "        return"
   ]
  },
  {
   "cell_type": "code",
   "execution_count": 39,
   "metadata": {},
   "outputs": [
    {
     "data": {
      "text/plain": [
       "(3, 31)"
      ]
     },
     "execution_count": 39,
     "metadata": {},
     "output_type": "execute_result"
    }
   ],
   "source": [
    "# Understanding calendar.monthrange a bit better \n",
    "calendar.monthrange(2020,10)\n",
    "\n",
    "#returns weekday for first day of month (0=monday) and number of days in the month"
   ]
  },
  {
   "cell_type": "markdown",
   "metadata": {},
   "source": [
    "### Determing fiscal year, start date and end date for the fiscal year, assuming fiscal year July to June"
   ]
  },
  {
   "cell_type": "markdown",
   "metadata": {},
   "source": [
    "#### What data type does the fiscal year class return?"
   ]
  },
  {
   "cell_type": "code",
   "execution_count": 103,
   "metadata": {},
   "outputs": [
    {
     "name": "stdout",
     "output_type": "stream",
     "text": [
      "2021\n",
      "<class 'int'>\n",
      "2020-07-01\n",
      "<class 'datetime.date'>\n"
     ]
    }
   ],
   "source": [
    "# explore date types required to create tests\n",
    "import datetime\n",
    "import fiscalyear\n",
    "\n",
    "fiscalyear.START_MONTH = 7\n",
    "\n",
    "# create exploratory datetime based on today\n",
    "td=datetime.datetime.today()\n",
    "\n",
    "# create exploratory fiscal year\n",
    "fy=fiscalyear.FiscalDate(td.year,td.month,td.day).fiscal_year\n",
    "# fiscal year\n",
    "print(fy)\n",
    "# type of fiscal year\n",
    "print(type(fy))\n",
    "\n",
    "# create exploratory start date for determined fiscal year\n",
    "fy_startdate=fiscalyear.FiscalYear(fy).start.date()\n",
    "# start date of fiscal year\n",
    "print(fy_startdate)\n",
    "# type of start date of fiscal year\n",
    "print(type(fy_startdate))"
   ]
  },
  {
   "cell_type": "markdown",
   "metadata": {},
   "source": [
    "#### test determining fiscal year, start date and end date of fiscal year, assuming attributes to class YearMonth2"
   ]
  },
  {
   "cell_type": "code",
   "execution_count": 87,
   "metadata": {},
   "outputs": [
    {
     "name": "stdout",
     "output_type": "stream",
     "text": [
      "PASSED fiscal year, start date, end date (2021, datetime.date(2020, 7, 1), datetime.date(2021, 6, 30))\n"
     ]
    }
   ],
   "source": [
    "# tests\n",
    "test_value1=YearMonth2('202011').fiscal_year\n",
    "test_value2=YearMonth2('202011').fiscal_startdate\n",
    "test_value3=YearMonth2('202011').fiscal_enddate\n",
    "\n",
    "assert test_value1==2021, 'FAIL return fiscal year'\n",
    "assert test_value2==datetime.date(2020,7,1)\n",
    "assert test_value3==datetime.date(2021,6,30)\n",
    "\n",
    "print(f'PASSED fiscal year, start date, end date {test_value1, test_value2, test_value3}')"
   ]
  },
  {
   "cell_type": "markdown",
   "metadata": {},
   "source": [
    "#### class to pass test by determining fiscal year, start date and end date of fiscal year"
   ]
  },
  {
   "cell_type": "code",
   "execution_count": 86,
   "metadata": {},
   "outputs": [],
   "source": [
    "# class\n",
    "import calendar\n",
    "from dateutil import parser as p\n",
    "import fiscalyear\n",
    "\n",
    "fiscalyear.START_MONTH = 7\n",
    "\n",
    "class YearMonth2:\n",
    "    def __init__(self,year_month):\n",
    "        \n",
    "        self.year_month=year_month\n",
    "        \n",
    "        year=year_month[0:4]\n",
    "        month=year_month[4:]\n",
    "        # convert year, month to date for first day of month\n",
    "        self.start_monthdate=p.parse(year_month+'01')\n",
    "        # convert year, month to date for last day of month\n",
    "        self.end_monthdate=p.parse(year_month+str(calendar.monthrange(2020,int(month))[1]))\n",
    "        \n",
    "        # determine fiscal year\n",
    "        self.fiscal_year=fiscalyear.FiscalDate(self.start_monthdate.year,\n",
    "                                               self.start_monthdate.month,\n",
    "                                               self.start_monthdate.day).fiscal_year\n",
    "        # determine fiscal year start date\n",
    "        self.fiscal_startdate=fiscalyear.FiscalYear(self.fiscal_year).start.date()\n",
    "        self.fiscal_enddate=fiscalyear.FiscalYear(self.fiscal_year).end.date()\n",
    "\n",
    "        return"
   ]
  },
  {
   "cell_type": "code",
   "execution_count": 99,
   "metadata": {},
   "outputs": [
    {
     "name": "stdout",
     "output_type": "stream",
     "text": [
      "2020-11-01 00:00:00\n",
      "<class 'datetime.datetime'>\n",
      "\n",
      "2020\n",
      "11\n",
      "1\n",
      "\n",
      "2020-11-1\n",
      "<class 'str'>\n"
     ]
    }
   ],
   "source": [
    "# uderstand converting of dates\n",
    "test_date=p.parse('2020-11-01')\n",
    "print(test_date)\n",
    "print(type(test_date))\n",
    "\n",
    "print('')\n",
    "print(test_date.year)\n",
    "print(test_date.month)\n",
    "print(test_date.day)\n",
    "\n",
    "print(\"\")\n",
    "test_string=f'{test_date.year}-{test_date.month}-{test_date.day}'\n",
    "print(test_string)\n",
    "print(type(test_string))"
   ]
  },
  {
   "cell_type": "code",
   "execution_count": null,
   "metadata": {},
   "outputs": [],
   "source": []
  }
 ],
 "metadata": {
  "kernelspec": {
   "display_name": "Python 3",
   "language": "python",
   "name": "python3"
  },
  "language_info": {
   "codemirror_mode": {
    "name": "ipython",
    "version": 3
   },
   "file_extension": ".py",
   "mimetype": "text/x-python",
   "name": "python",
   "nbconvert_exporter": "python",
   "pygments_lexer": "ipython3",
   "version": "3.7.6"
  }
 },
 "nbformat": 4,
 "nbformat_minor": 4
}
